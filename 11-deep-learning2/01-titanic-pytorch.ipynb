{
 "cells": [
  {
   "cell_type": "markdown",
   "metadata": {
    "colab_type": "text",
    "id": "2C0MKJaprzeU"
   },
   "source": [
    "[![AnalyticsDojo](https://github.com/rpi-techfundamentals/fall2018-materials/blob/master/fig/final-logo.png?raw=1)](http://rpi.analyticsdojo.com)\n",
    "<center><h1>Pytorch - Revisiting Titanic</h1></center>\n",
    "<center><h3><a href = 'http://rpi.analyticsdojo.com'>rpi.analyticsdojo.com</a></h3></center>\n"
   ]
  },
  {
   "cell_type": "markdown",
   "metadata": {},
   "source": [
    "Some code and inspiration from https://www.kaggle.com/kiranscaria/titanic-pytorch\n",
    "Licensed under http://www.apache.org/licenses/LICENSE-2.0 per Kaggle policy. \n",
    "    "
   ]
  },
  {
   "cell_type": "code",
   "execution_count": null,
   "metadata": {
    "colab": {},
    "colab_type": "code",
    "collapsed": true,
    "id": "hvkaBnEZrzeY"
   },
   "outputs": [],
   "source": [
    "!pip install torch torchvision"
   ]
  },
  {
   "cell_type": "code",
   "execution_count": null,
   "metadata": {
    "colab": {},
    "colab_type": "code",
    "collapsed": true,
    "id": "jo_XONekrzep"
   },
   "outputs": [],
   "source": [
    "import numpy as np\n",
    "import pandas as pd\n",
    "import pandas as pd\n",
    "\n",
    "train= pd.read_csv('https://raw.githubusercontent.com/rpi-techfundamentals/fall2018-materials/master/input/train.csv')\n",
    "test = pd.read_csv('https://raw.githubusercontent.com/rpi-techfundamentals/fall2018-materials/master/input/test.csv')\n",
    "\n"
   ]
  },
  {
   "cell_type": "code",
   "execution_count": null,
   "metadata": {
    "colab": {},
    "colab_type": "code",
    "collapsed": true,
    "id": "csfWKXdlrzev"
   },
   "outputs": [],
   "source": [
    "#Print to standard output, and see the results in the \"log\" section below after running your script\n",
    "train.head()"
   ]
  },
  {
   "cell_type": "code",
   "execution_count": null,
   "metadata": {
    "colab": {},
    "colab_type": "code",
    "collapsed": true,
    "id": "zHasojcprzfD"
   },
   "outputs": [],
   "source": [
    "#Now let's fix the missing value problem in the age field\n",
    "train[\"Age\"] = train[\"Age\"].fillna(train[\"Age\"].median())\n",
    "test[\"Age\"] = test[\"Age\"].fillna(test[\"Age\"].median())\n",
    "\n",
    "train[\"Fare\"] = train[\"Fare\"].fillna(train[\"Fare\"].median())\n",
    "test[\"Fare\"] = test[\"Fare\"].fillna(test[\"Fare\"].median())"
   ]
  },
  {
   "cell_type": "code",
   "execution_count": null,
   "metadata": {
    "colab": {},
    "colab_type": "code",
    "collapsed": true,
    "id": "CDzvvDQXrzfK"
   },
   "outputs": [],
   "source": [
    "#For Recoding Data, we can use what we know of selecting rows and columns\n",
    "train[\"Embarked\"] = train[\"Embarked\"].fillna(\"S\")\n",
    "test[\"Embarked\"] = test[\"Embarked\"].fillna(\"S\")\n"
   ]
  },
  {
   "cell_type": "code",
   "execution_count": null,
   "metadata": {
    "colab": {},
    "colab_type": "code",
    "collapsed": true,
    "id": "in-BH7dOrzfY"
   },
   "outputs": [],
   "source": [
    "#Let's create a new feature called namelength\n",
    "train['NameLength'] = train['Name'].map(lambda x: len(x))\n",
    "test['NameLength'] = test['Name'].map(lambda x: len(x))"
   ]
  },
  {
   "cell_type": "code",
   "execution_count": null,
   "metadata": {
    "colab": {},
    "colab_type": "code",
    "collapsed": true,
    "id": "4Bskhd78s1qz"
   },
   "outputs": [],
   "source": [
    "dataset_title = [i.split(',')[1].split('.')[0].strip() for i in train['Name']]\n",
    "train['Title'] = pd.Series(dataset_title)\n",
    "train['Title'].value_counts()\n"
   ]
  },
  {
   "cell_type": "code",
   "execution_count": null,
   "metadata": {
    "colab": {},
    "colab_type": "code",
    "collapsed": true,
    "id": "BKrtxQ7jtVfq"
   },
   "outputs": [],
   "source": [
    "#Replace Infrequent classes\n",
    "train['Title'] = train['Title'].replace(['Lady', 'the Countess', 'Countess', 'Capt', 'Col', 'Don', 'Dr', 'Major', 'Rev', 'Sir', 'Jonkheer', 'Dona', 'Ms', 'Mme', 'Mlle'], 'Rare')\n",
    "train['Title'].value_counts()\n"
   ]
  },
  {
   "cell_type": "code",
   "execution_count": null,
   "metadata": {
    "colab": {},
    "colab_type": "code",
    "collapsed": true,
    "id": "CJ6Gt4x3tkXk"
   },
   "outputs": [],
   "source": [
    "#Double check that the same works for the Test. \n",
    "dataset_title = [i.split(',')[1].split('.')[0].strip() for i in test['Name']]\n",
    "test['Title'] = pd.Series(dataset_title)\n",
    "test['Title'] = test['Title'].replace(['Lady', 'the Countess', 'Countess', 'Capt', 'Col', 'Don', 'Dr', 'Major', 'Rev', 'Sir', 'Jonkheer', 'Dona', 'Ms', 'Mme', 'Mlle'], 'Rare')\n",
    "test['Title'].value_counts()"
   ]
  },
  {
   "cell_type": "code",
   "execution_count": null,
   "metadata": {
    "colab": {},
    "colab_type": "code",
    "collapsed": true,
    "id": "HCnWGnqEtC6L"
   },
   "outputs": [],
   "source": [
    "#Create a field for the family count. \n",
    "train['FamilyS'] = train['SibSp'] + train['Parch'] + 1\n",
    "test['FamilyS'] = test['SibSp'] + test['Parch'] + 1"
   ]
  },
  {
   "cell_type": "markdown",
   "metadata": {
    "colab_type": "text",
    "id": "Z_xvozkorzfl"
   },
   "source": [
    "##Update"
   ]
  },
  {
   "cell_type": "code",
   "execution_count": null,
   "metadata": {
    "colab": {},
    "colab_type": "code",
    "collapsed": true,
    "id": "LZyG5kWlrzfo"
   },
   "outputs": [],
   "source": [
    "#Create a categorical variable from the family count \n",
    "def family(x):\n",
    "    if x < 2:\n",
    "        return 'Single'\n",
    "    elif x == 2:\n",
    "        return 'Couple'\n",
    "    elif x <= 4:\n",
    "        return 'InterM'\n",
    "    else:\n",
    "        return 'Large'\n",
    "    \n",
    "train['FamilyS'] = train['FamilyS'].apply(family)\n",
    "test['FamilyS'] = test['FamilyS'].apply(family)"
   ]
  },
  {
   "cell_type": "code",
   "execution_count": null,
   "metadata": {
    "colab": {},
    "colab_type": "code",
    "collapsed": true,
    "id": "rBk3dW7Erzfr"
   },
   "outputs": [],
   "source": [
    "#Drop some colums that won't be modeled. \n",
    "train_min=train.drop(['PassengerId', 'Cabin', 'Name', 'SibSp', 'Parch', 'Ticket'], axis=1)\n",
    "train_min\n",
    "test_min=test.drop(['PassengerId', 'Cabin', 'Name', 'SibSp', 'Parch', 'Ticket'], axis=1)\n",
    "train_min\n"
   ]
  },
  {
   "cell_type": "code",
   "execution_count": null,
   "metadata": {
    "colab": {},
    "colab_type": "code",
    "collapsed": true,
    "id": "5ULlc2tIrzfw"
   },
   "outputs": [],
   "source": [
    "#Adding .values will make whatever comes out into a numpy array. \n",
    "X_train = train_min.iloc[:, 1:9].values\n",
    "Y_train = train_min.iloc[:, 0].values\n",
    "X_test = test_min.iloc[:, 0:8].values\n",
    "\n",
    "print(X_test[1], X_train[1])"
   ]
  },
  {
   "cell_type": "code",
   "execution_count": null,
   "metadata": {
    "colab": {},
    "colab_type": "code",
    "collapsed": true,
    "id": "Prh6BINvrzf2"
   },
   "outputs": [],
   "source": [
    "# Previously we used get dummies (part of pandas)\n",
    "#Here we will first transform string labels to numeric categories. \n",
    "from sklearn.preprocessing import LabelEncoder, OneHotEncoder\n",
    "labelencoder_X_1 = LabelEncoder()\n",
    "X_train[:, 1] = labelencoder_X_1.fit_transform(X_train[:, 1]) #Female/male\n",
    "X_train[:, 4] = labelencoder_X_1.fit_transform(X_train[:, 4]) #Embarked\n",
    "X_train[:, 6] = labelencoder_X_1.fit_transform(X_train[:, 6]) #Title\n",
    "X_train[:, 7] = labelencoder_X_1.fit_transform(X_train[:, 7]) #Couple\n",
    "\n",
    "\n",
    "labelencoder_X_2 = LabelEncoder()\n",
    "X_test[:, 1] = labelencoder_X_2.fit_transform(X_test[:, 1])\n",
    "X_test[:, 4] = labelencoder_X_2.fit_transform(X_test[:, 4])\n",
    "X_test[:, 6] = labelencoder_X_1.fit_transform(X_test[:, 6]) \n",
    "X_test[:, 7] = labelencoder_X_2.fit_transform(X_test[:, 7])\n",
    "X_test.shape"
   ]
  },
  {
   "cell_type": "code",
   "execution_count": null,
   "metadata": {
    "colab": {},
    "colab_type": "code",
    "collapsed": true,
    "id": "z5E2APF8B8YD"
   },
   "outputs": [],
   "source": [
    "#Always double check that you have the same \n",
    "#\n",
    "print(pd.DataFrame(X_test).isna().sum())\n",
    "print(pd.DataFrame(X_test).isna().sum())"
   ]
  },
  {
   "cell_type": "code",
   "execution_count": null,
   "metadata": {
    "colab": {},
    "colab_type": "code",
    "collapsed": true,
    "id": "Ekhh5-pqrzf6"
   },
   "outputs": [],
   "source": [
    "# Converting numeric categories values to one-hot representation\n",
    "# You might have \n",
    "one_hot_encoder = OneHotEncoder(categorical_features = [1, 4, 6, 7])\n",
    "X_train = one_hot_encoder.fit_transform(X_train).toarray()\n",
    "X_test = one_hot_encoder.fit_transform(X_test).toarray()"
   ]
  },
  {
   "cell_type": "code",
   "execution_count": null,
   "metadata": {
    "colab": {},
    "colab_type": "code",
    "collapsed": true,
    "id": "ikFSfBw4rzf8"
   },
   "outputs": [],
   "source": [
    "#Double check no missing values or values that aren't numeric.\n",
    "print(np.isnan(X_train).sum(),np.isnan(X_test).sum())\n",
    "print(X_train[0])"
   ]
  },
  {
   "cell_type": "code",
   "execution_count": null,
   "metadata": {
    "colab": {},
    "colab_type": "code",
    "collapsed": true,
    "id": "a0Lx7520rzgB"
   },
   "outputs": [],
   "source": [
    "#Split the data\n",
    "from sklearn.model_selection import train_test_split\n",
    "\n",
    "#This returns training and validation (val) for x and y\n",
    "x_train, x_val, y_train, y_val = train_test_split(X_train, Y_train, test_size = 0.2)\n",
    "\n",
    "#You might have to make sure that you have right matrix. \n",
    "x_train.shape\n",
    "\n"
   ]
  },
  {
   "cell_type": "code",
   "execution_count": null,
   "metadata": {
    "colab": {},
    "colab_type": "code",
    "collapsed": true,
    "id": "86XL6WyBrzgF"
   },
   "outputs": [],
   "source": [
    "#Define the model \n",
    "import torch\n",
    "import torch.nn as nn\n",
    "import torch.nn.functional as F\n",
    "device = torch.device(\"cuda:0\" if torch.cuda.is_available() else \"cpu\")\n",
    "# Assume that we are on a CUDA machine, then this should print a CUDA device:\n",
    "print(device)\n",
    "\n",
    "class Net(nn.Module):\n",
    "    \n",
    "    def __init__(self):\n",
    "        super(Net, self).__init__()\n",
    "        #Note that 17 is the number of columns in the input matrix. \n",
    "        self.fc1 = nn.Linear(18, 270)\n",
    "        #270 is arbitrary, but needs to be consistent.  2 is the number of classes in the output (died/survived)\n",
    "        self.fc2 = nn.Linear(270, 2)\n",
    "        \n",
    "    def forward(self, x):\n",
    "        x = self.fc1(x)\n",
    "        x = F.dropout(x, p=0.1)\n",
    "        x = F.relu(x)\n",
    "        x = self.fc2(x)\n",
    "        x = torch.sigmoid(x)  #signmoid flattens to probability 0-1. \n",
    "        \n",
    "        return x\n",
    "    \n",
    "net = Net()"
   ]
  },
  {
   "cell_type": "code",
   "execution_count": null,
   "metadata": {
    "colab": {},
    "colab_type": "code",
    "collapsed": true,
    "id": "-wQvuOimv4S_"
   },
   "outputs": [],
   "source": [
    "#Define training\n",
    "batch_size = 50\n",
    "num_epochs = 100\n",
    "learning_rate = 0.01\n",
    "batch_no = len(x_train) // batch_size"
   ]
  },
  {
   "cell_type": "code",
   "execution_count": null,
   "metadata": {
    "colab": {},
    "colab_type": "code",
    "collapsed": true,
    "id": "gSh3Q381v89k"
   },
   "outputs": [],
   "source": [
    "#define loss function and optimizer \n",
    "#Adam is a specific flavor of gradient decent which is typically better\n",
    "optimizer = torch.optim.Adam(net.parameters(), lr=learning_rate)\n",
    "criterion = nn.CrossEntropyLoss()"
   ]
  },
  {
   "cell_type": "code",
   "execution_count": null,
   "metadata": {
    "colab": {},
    "colab_type": "code",
    "collapsed": true,
    "id": "6NSPCky2wEOk"
   },
   "outputs": [],
   "source": [
    "from sklearn.utils import shuffle\n",
    "from torch.autograd import Variable\n",
    "running_loss = 0.0\n",
    "for epoch in range(num_epochs):\n",
    "    #Shuffle just mixes up the dataset between epocs\n",
    "    x_train, y_train = shuffle(x_train, y_train)\n",
    "    # Mini batch learning\n",
    "    for i in range(batch_no):\n",
    "        start = i * batch_size\n",
    "        end = start + batch_size\n",
    "        inputs = Variable(torch.FloatTensor(x_train[start:end]))\n",
    "        labels = Variable(torch.LongTensor(y_train[start:end]))\n",
    "        # zero the parameter gradients\n",
    "        optimizer.zero_grad()\n",
    "\n",
    "        # forward + backward + optimize\n",
    "        outputs = net(inputs)\n",
    "        loss = criterion(outputs, labels)\n",
    "        loss.backward()\n",
    "        optimizer.step()\n",
    "\n",
    "        # print statistics\n",
    "        running_loss += loss.item()\n",
    "        \n",
    "    print('Epoch {}'.format(epoch+1), \"loss: \",running_loss)\n",
    "    running_loss = 0.0\n",
    "\n",
    "        \n",
    "        "
   ]
  },
  {
   "cell_type": "code",
   "execution_count": null,
   "metadata": {
    "colab": {},
    "colab_type": "code",
    "collapsed": true,
    "id": "mZJJsoA82hka"
   },
   "outputs": [],
   "source": [
    "#This is a little bit tricky to get the resulting prediction.  \n",
    "def calculate_accuracy(x,y=[]):\n",
    "    \"\"\"\n",
    "    This function will return the accuracy if passed x and y or return predictions if just passed x. \n",
    "    \"\"\"\n",
    "    # Evaluate the model with the test set. \n",
    "    test_var = Variable(torch.FloatTensor(x), requires_grad=True)\n",
    "    with torch.no_grad():   \n",
    "        result = net(test_var) #This outputs the probability for each class.\n",
    "    values, labels = torch.max(result, 1)\n",
    "    if len(y) != 0:\n",
    "        num_right = np.sum(labels.data.numpy() == y)\n",
    "        print('Accuracy {:.2f}'.format(num_right / len(y)), \"for a total of \", len(y), \"records\")\n",
    "    else:\n",
    "        print(\"returning predictions\")\n",
    "        return labels.data.numpy()\n",
    " "
   ]
  },
  {
   "cell_type": "code",
   "execution_count": null,
   "metadata": {
    "colab": {},
    "colab_type": "code",
    "collapsed": true,
    "id": "deLkLRbz7rft"
   },
   "outputs": [],
   "source": [
    "# Check out the accuracy for training set\n",
    "calculate_accuracy(x_train, y_train)\n",
    "# Check out the accuracy for validation set\n",
    "calculate_accuracy(x_val, y_val)\n",
    "\n",
    "# Generate predictions for our prediction set.  \n",
    "predictions=calculate_accuracy(X_test)\n",
    "len(predictions)\n",
    "predictions"
   ]
  },
  {
   "cell_type": "code",
   "execution_count": null,
   "metadata": {
    "colab": {},
    "colab_type": "code",
    "collapsed": true,
    "id": "2f8v2vm0rzgK"
   },
   "outputs": [],
   "source": [
    "#Writing to File\n",
    "submission=pd.DataFrame(test.loc[:,['PassengerId']])\n",
    "submission['Survived']=predictions\n",
    "#Any files you save will be available in the output tab below\n",
    "submission.to_csv('submission.csv', index=False)"
   ]
  },
  {
   "cell_type": "markdown",
   "metadata": {},
   "source": [
    "### Download File from Colab"
   ]
  },
  {
   "cell_type": "code",
   "execution_count": null,
   "metadata": {
    "colab": {},
    "colab_type": "code",
    "collapsed": true,
    "id": "8K_wvlye_FYx"
   },
   "outputs": [],
   "source": [
    "#There is a google file to enable this. \n",
    "from google.colab import files\n",
    "files.download('submission.csv')"
   ]
  }
 ],
 "metadata": {
  "accelerator": "GPU",
  "colab": {
   "collapsed_sections": [],
   "name": "01-titanic-pytorch.ipynb",
   "provenance": [
    {
     "file_id": "https://github.com/rpi-techfundamentals/fall2018-materials/blob/master/11-deep-learning2/01-titanic-pytorch.ipynb",
     "timestamp": 1543248825013
    }
   ],
   "version": "0.3.2"
  },
  "kernelspec": {
   "display_name": "Python 3",
   "language": "python",
   "name": "python3"
  },
  "language_info": {
   "codemirror_mode": {
    "name": "ipython",
    "version": 3
   },
   "file_extension": ".py",
   "mimetype": "text/x-python",
   "name": "python",
   "nbconvert_exporter": "python",
   "pygments_lexer": "ipython3",
   "version": "3.6.3"
  }
 },
 "nbformat": 4,
 "nbformat_minor": 2
}
