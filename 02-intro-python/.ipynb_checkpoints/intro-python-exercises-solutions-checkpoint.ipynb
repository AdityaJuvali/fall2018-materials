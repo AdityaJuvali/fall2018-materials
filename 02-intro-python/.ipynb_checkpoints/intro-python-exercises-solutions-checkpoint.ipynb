{
 "cells": [
  {
   "cell_type": "markdown",
   "metadata": {},
   "source": [
    "[![AnalyticsDojo](https://s3.amazonaws.com/analyticsdojo/logo/final-logo.png)](http://rpi.analyticsdojo.com)\n",
    "<center><h1>Introduction to Python - Exercises</h1></center>\n",
    "<center><h3><a href = 'http://rpi.analyticsdojo.com'>rpi.analyticsdojo.com</a></h3></center>"
   ]
  },
  {
   "cell_type": "markdown",
   "metadata": {
    "slideshow": {
     "slide_type": "slide"
    }
   },
   "source": [
    "## Exercise-Packages\n",
    "\n",
    "This creates an Numpy array. Numpy is a common package that we will use to work with arrays. You can read more about Numpy [here](http://www.numpy.org/). \n",
    "\n",
    "`a = numpy.array([2,3,4])\n",
    "print(a)`\n",
    "\n",
    "To get this to work, you will have to import the Numpy package.  \n",
    "\n",
    "### Overview\n",
    "1. Verify that Numpy is installed. How did you know?  How would you install it if it wasn't installed? \n",
    "2. Provide the code to import numpy so that the code below works.  \n",
    "3. Import numpy as np and create an array `E2` with values `5,6,7,8`."
   ]
  },
  {
   "cell_type": "code",
   "execution_count": 87,
   "metadata": {
    "collapsed": true
   },
   "outputs": [],
   "source": [
    "# 1. This would fail if it weren't installed. \n",
    "# 1. !pip install numpy would install it if we didn't have it installed. \n",
    "import numpy"
   ]
  },
  {
   "cell_type": "code",
   "execution_count": 88,
   "metadata": {
    "collapsed": false
   },
   "outputs": [
    {
     "name": "stdout",
     "output_type": "stream",
     "text": [
      "[1 2 3 4]\n"
     ]
    }
   ],
   "source": [
    "# 2. We actually don't have to import Numpy because we did above. \n",
    "import numpy\n",
    "a = numpy.array([1,2,3,4])\n",
    "print(a)\n"
   ]
  },
  {
   "cell_type": "code",
   "execution_count": 89,
   "metadata": {
    "collapsed": false
   },
   "outputs": [
    {
     "name": "stdout",
     "output_type": "stream",
     "text": [
      "[5 6 7 8]\n"
     ]
    }
   ],
   "source": [
    "#Most of the time \n",
    "import numpy as np\n",
    "E2 = np.array([5,6,7,8])\n",
    "print(E2)"
   ]
  },
  {
   "cell_type": "markdown",
   "metadata": {},
   "source": [
    "## Exercise - Operations on Variables\n",
    "\n",
    "1. What happens when you multiply an integer times a boolean? What is the resulting type? \n",
    "2. What happens when you try to multiply an integer value times a null?\n",
    "3. Take 5 to the power of 4 and assign it to a variable `E3` using an embeded function. "
   ]
  },
  {
   "cell_type": "code",
   "execution_count": 90,
   "metadata": {
    "collapsed": false
   },
   "outputs": [
    {
     "name": "stdout",
     "output_type": "stream",
     "text": [
      "5 0\n",
      "<class 'int'> <class 'int'>\n"
     ]
    }
   ],
   "source": [
    "#What happens when you multiply int times a boolean? What is the resulting type?\n",
    "a = True\n",
    "b = False\n",
    "c = int(5)\n",
    "c= c * a\n",
    "d = c * b\n",
    "\n",
    "print(c, d)\n",
    "print(type(c), type(d))\n",
    "\n",
    "#Answer, If x is an integer and y is a boolean, x*y = x if y==true and 0 otherwise. \n"
   ]
  },
  {
   "cell_type": "code",
   "execution_count": 91,
   "metadata": {
    "collapsed": false
   },
   "outputs": [
    {
     "name": "stdout",
     "output_type": "stream",
     "text": [
      "<class 'NoneType'> <class 'int'>\n"
     ]
    },
    {
     "ename": "TypeError",
     "evalue": "unsupported operand type(s) for *: 'NoneType' and 'int'",
     "output_type": "error",
     "traceback": [
      "\u001b[0;31m---------------------------------------------------------------------------\u001b[0m",
      "\u001b[0;31mTypeError\u001b[0m                                 Traceback (most recent call last)",
      "\u001b[0;32m<ipython-input-91-b8782523b4db>\u001b[0m in \u001b[0;36m<module>\u001b[0;34m()\u001b[0m\n\u001b[1;32m      3\u001b[0m \u001b[0;34m\u001b[0m\u001b[0m\n\u001b[1;32m      4\u001b[0m \u001b[0mprint\u001b[0m\u001b[0;34m(\u001b[0m\u001b[0mtype\u001b[0m\u001b[0;34m(\u001b[0m\u001b[0ma\u001b[0m\u001b[0;34m)\u001b[0m\u001b[0;34m,\u001b[0m \u001b[0mtype\u001b[0m\u001b[0;34m(\u001b[0m\u001b[0mb\u001b[0m\u001b[0;34m)\u001b[0m\u001b[0;34m)\u001b[0m\u001b[0;34m\u001b[0m\u001b[0m\n\u001b[0;32m----> 5\u001b[0;31m \u001b[0mc\u001b[0m\u001b[0;34m=\u001b[0m \u001b[0ma\u001b[0m\u001b[0;34m*\u001b[0m\u001b[0mb\u001b[0m\u001b[0;34m\u001b[0m\u001b[0m\n\u001b[0m\u001b[1;32m      6\u001b[0m \u001b[0mprint\u001b[0m\u001b[0;34m(\u001b[0m\u001b[0mc\u001b[0m\u001b[0;34m)\u001b[0m\u001b[0;34m\u001b[0m\u001b[0m\n\u001b[1;32m      7\u001b[0m \u001b[0mprint\u001b[0m\u001b[0;34m(\u001b[0m\u001b[0mtype\u001b[0m\u001b[0;34m(\u001b[0m\u001b[0ma\u001b[0m\u001b[0;34m)\u001b[0m\u001b[0;34m,\u001b[0m \u001b[0mtype\u001b[0m\u001b[0;34m(\u001b[0m\u001b[0mc\u001b[0m\u001b[0;34m)\u001b[0m\u001b[0;34m)\u001b[0m\u001b[0;34m\u001b[0m\u001b[0m\n",
      "\u001b[0;31mTypeError\u001b[0m: unsupported operand type(s) for *: 'NoneType' and 'int'"
     ]
    }
   ],
   "source": [
    "a = None\n",
    "b = int(5)\n",
    "\n",
    "print(type(a), type(b))\n",
    "c= a*b\n",
    "print(c)\n",
    "print(type(a), type(c))\n",
    "\n",
    "#Answer, multiplying an integer times a NoneType is not allowed. "
   ]
  },
  {
   "cell_type": "code",
   "execution_count": 92,
   "metadata": {
    "collapsed": false
   },
   "outputs": [
    {
     "name": "stdout",
     "output_type": "stream",
     "text": [
      "625\n"
     ]
    }
   ],
   "source": [
    "##Take 5 to the power of 4 and assign it to a variable E3 using an embeded function.\n",
    "x=5\n",
    "y=4\n",
    "E3=pow(x, y)\n",
    "print(E3)\n"
   ]
  },
  {
   "cell_type": "markdown",
   "metadata": {},
   "source": [
    "## Exercise-Lists\n",
    "Hint: [This list of functions on lists is useful.](https://docs.python.org/3/tutorial/datastructures.html)\n",
    "\n",
    "1. Create a list `elists1` with the following values (1,2,3,4,5).\n",
    "2. Create a new list `elists2` by first creating a copy of `elist1` and then reversing the order.\n",
    "3. Create a new list `elists3` by first creating a copy of `elist1` and then adding 7 8 9 to the end. *(Hint: Search for a different function if appending doesn't work.)*\n",
    "4. Create a new list `elists4` by first creating a copy of `elist3` and then insert 6 between 5 and 7. \n",
    "\n",
    "\n",
    "\n",
    "\n"
   ]
  },
  {
   "cell_type": "code",
   "execution_count": 93,
   "metadata": {
    "collapsed": false
   },
   "outputs": [
    {
     "name": "stdout",
     "output_type": "stream",
     "text": [
      "[1, 2, 3, 4, 5]\n"
     ]
    }
   ],
   "source": [
    "elists1=[1,2,3,4,5]\n",
    "print(elists1)"
   ]
  },
  {
   "cell_type": "code",
   "execution_count": 94,
   "metadata": {
    "collapsed": false
   },
   "outputs": [
    {
     "name": "stdout",
     "output_type": "stream",
     "text": [
      "[1, 2, 3, 4, 5]\n",
      "[5, 4, 3, 2, 1]\n"
     ]
    }
   ],
   "source": [
    "elists2=elists1[:]\n",
    "elists2.reverse()\n",
    "\n",
    "print(elists1)\n",
    "print(elists2)"
   ]
  },
  {
   "cell_type": "code",
   "execution_count": 95,
   "metadata": {
    "collapsed": false
   },
   "outputs": [
    {
     "name": "stdout",
     "output_type": "stream",
     "text": [
      "[1, 2, 3, 4, 5]\n",
      "[1, 2, 3, 4, 5, 7, 8, 9]\n"
     ]
    }
   ],
   "source": [
    "#Create a new list elists3 by first creating a copy of elist1 and then adding 7 8 9 to the end.\n",
    "elists3=elists1[:]\n",
    "elists3.extend([7, 8, 9])\n",
    "\n",
    "print(elists1)\n",
    "print(elists3)\n"
   ]
  },
  {
   "cell_type": "code",
   "execution_count": 96,
   "metadata": {
    "collapsed": false
   },
   "outputs": [
    {
     "name": "stdout",
     "output_type": "stream",
     "text": [
      "[1, 2, 3, 4, 5, 7, 8, 9]\n",
      "[1, 2, 3, 4, 5, 6, 7, 8, 9]\n"
     ]
    }
   ],
   "source": [
    "#Create a new list elists4 by first creating a copy of elist1 and thennsert 3.5 between 3 and 4.\n",
    "elists4=elists3[:]\n",
    "elists4.insert(5,6 )\n",
    "print(elists3)\n",
    "print(elists4)"
   ]
  },
  {
   "cell_type": "markdown",
   "metadata": {},
   "source": [
    "### This Loads a Testing Array \n",
    "- This runs tests against your b array.  If you complete the assingment correctly, you will pass the tests. \n",
    "- **If you attempt to fake passing the tests you will receive a 0 on the assignment and it will be considered an ethical violation.**"
   ]
  },
  {
   "cell_type": "code",
   "execution_count": 97,
   "metadata": {
    "collapsed": false
   },
   "outputs": [
    {
     "name": "stdout",
     "output_type": "stream",
     "text": [
      "Requirement already satisfied (use --upgrade to upgrade): ipython_unittest in /opt/conda/lib/python3.5/site-packages\n",
      "The ipython_unittest extension is already loaded. To reload it, use:\n",
      "  %reload_ext ipython_unittest\n"
     ]
    }
   ],
   "source": [
    "!pip install ipython_unittest\n",
    "%load_ext ipython_unittest\n",
    "#This runs tests against your b array.  If you complete the assingment correctly, you will pass the tests. "
   ]
  },
  {
   "cell_type": "code",
   "execution_count": 98,
   "metadata": {
    "collapsed": false
   },
   "outputs": [
    {
     "data": {
      "application/javascript": [
       "$(':has(> #dojo-timer-time)').css(\"background-color\",\"yellow\");"
      ],
      "text/plain": [
       "<IPython.core.display.Javascript object>"
      ]
     },
     "metadata": {},
     "output_type": "display_data"
    },
    {
     "name": "stdout",
     "output_type": "stream",
     "text": [
      ".....\n",
      "----------------------------------------------------------------------\n",
      "Ran 5 tests in 0.008s\n",
      "\n",
      "OK\n"
     ]
    },
    {
     "data": {
      "application/javascript": [
       "$(':has(> #dojo-timer-time)').css(\"background-color\",\"lightgreen\");"
      ],
      "text/plain": [
       "<IPython.core.display.Javascript object>"
      ]
     },
     "metadata": {},
     "output_type": "display_data"
    },
    {
     "data": {
      "text/plain": [
       "<unittest.runner.TextTestResult run=5 errors=0 failures=0>"
      ]
     },
     "execution_count": 98,
     "metadata": {},
     "output_type": "execute_result"
    }
   ],
   "source": [
    "%%unittest_main\n",
    "class TestLists(unittest.TestCase):\n",
    "    def test_list1(self):\n",
    "        self.assertTrue(elists1 == [1,2,3,4,5])\n",
    "    def test_list1b(self):\n",
    "        self.assertTrue(type(elists1) == type([1,2,3,4,5]))\n",
    "    def test_list2b(self):\n",
    "        self.assertTrue(elists2 == [5,4,3,2,1])\n",
    "    def test_list3(self):\n",
    "        self.assertTrue(elists3 == [1,2,3,4,5,7,8,9])\n",
    "    def test_list4(self):\n",
    "        self.assertTrue(elists4 == [1,2,3,4,5,6,7,8,9])\n"
   ]
  },
  {
   "cell_type": "markdown",
   "metadata": {},
   "source": [
    "## Exercise-Sets/Dictionary\n",
    "Hint: [This list of functions on lists is useful.](https://docs.python.org/3/tutorial/datastructures.html)\n",
    "\n",
    "1. Create a set `eset1` with the following values (1,2,3,4,5).\n",
    "2. Create a new set `eset2` the following values (1,3,6).\n",
    "3. Create a new set `eset3` that is `eset1-eset2`.\n",
    "4. Create a new set `eset4` that is the union of `eset1+eset2`.\n",
    "5. Create a new set `eset5` that includes values that are in both `eset1` and `eset2` (intersection).\n",
    "6. Create a new dict `edict1` with the following keys and associated values: st1=45; st2=32; st3=40; st4=31.\n",
    "7. Create a new variable edict2 from edict 1 where the key is st3."
   ]
  },
  {
   "cell_type": "code",
   "execution_count": 99,
   "metadata": {
    "collapsed": false
   },
   "outputs": [
    {
     "name": "stdout",
     "output_type": "stream",
     "text": [
      "{1, 2, 3, 4, 5} \n",
      " <class 'set'> \n",
      " {1, 3, 6} \n",
      " {2, 4, 5} \n",
      " {1, 2, 3, 4, 5, 6} \n",
      " {1, 3}\n"
     ]
    }
   ],
   "source": [
    "eset1={1,2,3,4,5}\n",
    "eset2={1,3,6}\n",
    "eset3=eset1 - eset2\n",
    "eset4=eset1.union(eset2)\n",
    "eset5=eset1.intersection(eset2)\n",
    "print(eset1,'\\n', type(eset1), '\\n', eset2,'\\n', eset3,'\\n', eset4, '\\n', eset5 )"
   ]
  },
  {
   "cell_type": "code",
   "execution_count": 100,
   "metadata": {
    "collapsed": false
   },
   "outputs": [
    {
     "name": "stdout",
     "output_type": "stream",
     "text": [
      "{'st4': 31, 'st2': 32, 'st3': 40, 'st1': 45} \n",
      " <class 'dict'> \n",
      " 40\n"
     ]
    }
   ],
   "source": [
    "edict1 = {'st1' : 45, 'st2' : 32, 'st3' : 40, 'st4' : 31}\n",
    "edict2=edict1['st3']\n",
    "print(edict1,'\\n', type(edict1), '\\n', edict2)"
   ]
  },
  {
   "cell_type": "code",
   "execution_count": 101,
   "metadata": {
    "collapsed": false
   },
   "outputs": [
    {
     "data": {
      "application/javascript": [
       "$(':has(> #dojo-timer-time)').css(\"background-color\",\"yellow\");"
      ],
      "text/plain": [
       "<IPython.core.display.Javascript object>"
      ]
     },
     "metadata": {},
     "output_type": "display_data"
    },
    {
     "name": "stdout",
     "output_type": "stream",
     "text": [
      ".........\n",
      "----------------------------------------------------------------------\n",
      "Ran 9 tests in 0.010s\n",
      "\n",
      "OK\n"
     ]
    },
    {
     "data": {
      "application/javascript": [
       "$(':has(> #dojo-timer-time)').css(\"background-color\",\"lightgreen\");"
      ],
      "text/plain": [
       "<IPython.core.display.Javascript object>"
      ]
     },
     "metadata": {},
     "output_type": "display_data"
    },
    {
     "data": {
      "text/plain": [
       "<unittest.runner.TextTestResult run=9 errors=0 failures=0>"
      ]
     },
     "execution_count": 101,
     "metadata": {},
     "output_type": "execute_result"
    }
   ],
   "source": [
    "%%unittest_main\n",
    "class TestSetsDicts(unittest.TestCase):\n",
    "    def test_sets1(self):\n",
    "        self.assertTrue(eset1 == {1,2,3,4,5})\n",
    "    def test_sets1b(self):\n",
    "        self.assertTrue(type(eset1) == type({1,2,3,4,5}))\n",
    "    def test_sets2b(self):\n",
    "         self.assertTrue(eset2 == {1,3,6})\n",
    "    def test_sets3(self):\n",
    "        self.assertTrue(eset3 == {2,4,5})\n",
    "    def test_set4(self):\n",
    "        self.assertTrue(eset4 == {1,2,3,4,5,6})\n",
    "    def test_set5(self):\n",
    "        self.assertTrue(eset5 == {1,3})\n",
    "    def test_dict1(self):\n",
    "        self.assertTrue(edict1 == {'st1' : 45, 'st2' : 32, 'st3' : 40, 'st4' : 31})\n",
    "    def test_dict1b(self):\n",
    "        self.assertTrue(type(edict1) == type({'st1' : 45, 'st2' : 32, 'st3' : 40, 'st4' : 31}))\n",
    "    def test_dict2(self):\n",
    "        self.assertTrue(edict2 == 40)\n",
    "\n"
   ]
  },
  {
   "cell_type": "markdown",
   "metadata": {},
   "source": [
    "# Exercise-Numpy Array\n",
    "\n",
    "1. Create a new numpy array `nparray1` that is 3x3 and all the number 3 (should be integer type).\n",
    "2. Create a new variable `nparray1sum` that sums all of column 0.\n",
    "3. Create a new variable `nparray1mean` that takes the average of column 0. \n",
    "4. Create a new numpy array `nparray2` that selects only column 1 of `nparray1`.\n",
    "5. Create a new numpy array `nparray3` that is equal to `nparray1` times 2 (you should not alter `nparray1`).\n",
    "6. Create a new numpy array `nparray4` that is a verticle stack of `nparray1` and `nparray3`. "
   ]
  },
  {
   "cell_type": "code",
   "execution_count": 102,
   "metadata": {
    "collapsed": false
   },
   "outputs": [
    {
     "name": "stdout",
     "output_type": "stream",
     "text": [
      "\n",
      " [[3 3 3]\n",
      " [3 3 3]\n",
      " [3 3 3]] \n",
      " [[3 3 3]\n",
      " [3 3 3]\n",
      " [3 3 3]] \n",
      " [[3 3 3]\n",
      " [3 3 3]\n",
      " [3 3 3]]\n"
     ]
    }
   ],
   "source": [
    "import numpy as np\n",
    "# Create a new numpy array nparray1 that is 3x3 and all the number 3.\n",
    "#Method 1 (np.reshape)\n",
    "nparray1=np.array([3,3,3,3,3,3,3,3,3]).reshape(3,3)\n",
    "\n",
    "#Method 2 (np.full)\n",
    "np.full((3, 3), 3, dtype=int)\n",
    "nparray1b=np.full((3, 3), 3, dtype=int)\n",
    "\n",
    "#Method 3 (np.ones*3)\n",
    "nparray1c=np.ones(shape=(3, 3), dtype=int)*3\n",
    "print('\\n',nparray1, '\\n', nparray1b,'\\n', nparray1c)\n"
   ]
  },
  {
   "cell_type": "code",
   "execution_count": 103,
   "metadata": {
    "collapsed": false
   },
   "outputs": [
    {
     "name": "stdout",
     "output_type": "stream",
     "text": [
      "\n",
      " 9 \n",
      " 9 \n",
      " 9\n"
     ]
    }
   ],
   "source": [
    "#Create a new variable nparray1sum that sums all of column 0.\n",
    "#Method 1 \n",
    "nparray1sum=nparray1[0::,0:1:].sum()\n",
    "\n",
    "#Method 2 \n",
    "nparray1sumb=nparray1[:,0:1:].sum()\n",
    "\n",
    "#Method 3\n",
    "nparray1sumc=nparray1[:,0:1].sum()\n",
    " \n",
    "print('\\n',nparray1sum, '\\n', nparray1sumb,'\\n', nparray1sumc)"
   ]
  },
  {
   "cell_type": "code",
   "execution_count": 104,
   "metadata": {
    "collapsed": false
   },
   "outputs": [
    {
     "name": "stdout",
     "output_type": "stream",
     "text": [
      "\n",
      " 3.0 \n",
      " 3.0 \n",
      " 3.0\n"
     ]
    }
   ],
   "source": [
    "#Create a new variable nparray1mean that takes the average of column 0.\n",
    "#Method 1 \n",
    "nparray1mean=nparray1[0::,0:1:].mean()\n",
    "\n",
    "#Method 2 \n",
    "nparray1meanb=nparray1[:,0:1:].mean()\n",
    "\n",
    "#Method 3\n",
    "nparray1meanc=nparray1[:,0:1].mean()\n",
    " \n",
    "print('\\n',nparray1mean, '\\n', nparray1meanb,'\\n', nparray1meanc)"
   ]
  },
  {
   "cell_type": "code",
   "execution_count": 105,
   "metadata": {
    "collapsed": false
   },
   "outputs": [
    {
     "name": "stdout",
     "output_type": "stream",
     "text": [
      "[[3]\n",
      " [3]\n",
      " [3]]\n"
     ]
    }
   ],
   "source": [
    "#Create a new numpy array nparray2 that selects only column 1 of nparray1.\n",
    "nparray2 = nparray1[:,1:2]\n",
    "print(nparray2)\n"
   ]
  },
  {
   "cell_type": "code",
   "execution_count": 107,
   "metadata": {
    "collapsed": false
   },
   "outputs": [
    {
     "name": "stdout",
     "output_type": "stream",
     "text": [
      "\n",
      " [[3 3 3]\n",
      " [3 3 3]\n",
      " [3 3 3]] \n",
      " [[6 6 6]\n",
      " [6 6 6]\n",
      " [6 6 6]] \n",
      " [[6 6 6]\n",
      " [6 6 6]\n",
      " [6 6 6]]\n"
     ]
    }
   ],
   "source": [
    "#Create a new numpy array nparray3 that multiplies all values of nparray1 by 2.\n",
    "#Method1\n",
    "nparray1=np.array([3,3,3,3,3,3,3,3,3]).reshape(3,3)\n",
    "nparray3=np.multiply(nparray1,2)\n",
    "\n",
    "#Method2\n",
    "nparray3b=nparray1*2\n",
    "\n",
    "print('\\n',nparray1, '\\n', nparray3,'\\n', nparray3b)\n"
   ]
  },
  {
   "cell_type": "code",
   "execution_count": 108,
   "metadata": {
    "collapsed": false
   },
   "outputs": [
    {
     "name": "stdout",
     "output_type": "stream",
     "text": [
      "\n",
      " [[3 3 3]\n",
      " [3 3 3]\n",
      " [3 3 3]\n",
      " [6 6 6]\n",
      " [6 6 6]\n",
      " [6 6 6]] \n",
      " [[3 3 3]\n",
      " [3 3 3]\n",
      " [3 3 3]\n",
      " [6 6 6]\n",
      " [6 6 6]\n",
      " [6 6 6]]\n"
     ]
    }
   ],
   "source": [
    "#Create a new numpy array nparray4 that is a verticle stack of nparray1 and nparray3.\n",
    "nparray4=np.vstack([nparray1,nparray3])\n",
    "\n",
    "\n",
    "stacked=np.array([3,3,3,3,3,3,3,3,3,6,6,6,6,6,6,6,6,6]).reshape(6,3)\n",
    "print('\\n',nparray4,'\\n',stacked)\n"
   ]
  },
  {
   "cell_type": "code",
   "execution_count": 109,
   "metadata": {
    "collapsed": false
   },
   "outputs": [
    {
     "data": {
      "application/javascript": [
       "$(':has(> #dojo-timer-time)').css(\"background-color\",\"yellow\");"
      ],
      "text/plain": [
       "<IPython.core.display.Javascript object>"
      ]
     },
     "metadata": {},
     "output_type": "display_data"
    },
    {
     "name": "stdout",
     "output_type": "stream",
     "text": [
      "......\n",
      "----------------------------------------------------------------------\n",
      "Ran 6 tests in 0.008s\n",
      "\n",
      "OK\n"
     ]
    },
    {
     "data": {
      "application/javascript": [
       "$(':has(> #dojo-timer-time)').css(\"background-color\",\"lightgreen\");"
      ],
      "text/plain": [
       "<IPython.core.display.Javascript object>"
      ]
     },
     "metadata": {},
     "output_type": "display_data"
    },
    {
     "data": {
      "text/plain": [
       "<unittest.runner.TextTestResult run=6 errors=0 failures=0>"
      ]
     },
     "execution_count": 109,
     "metadata": {},
     "output_type": "execute_result"
    }
   ],
   "source": [
    "%%unittest_main\n",
    "class TestNumpy(unittest.TestCase):\n",
    "    def test_numpy1(self):\n",
    "        self.assertTrue((nparray1 == np.full((3, 3), 3, dtype=int)).all())\n",
    "    def test_numpy2(self):\n",
    "         self.assertTrue(nparray1sum == 9)\n",
    "    def test_numpy3(self):\n",
    "        self.assertTrue(nparray1mean == 3.0)\n",
    "    def test_numpy4(self):\n",
    "        self.assertTrue((nparray2 == np.array([3,3,3])).all())\n",
    "    def test_numpy5(self):\n",
    "        self.assertTrue((nparray3 == np.full((3, 3), 6, dtype=int)).all())\n",
    "    def test_numpy6(self):\n",
    "        stacked=np.array([3,3,3,3,3,3,3,3,3,6,6,6,6,6,6,6,6,6]).reshape(6,3)\n",
    "        self.assertTrue((nparray4 == stacked).all())\n"
   ]
  },
  {
   "cell_type": "markdown",
   "metadata": {},
   "source": [
    "## Exercise-Pandas\n",
    "1. Using, the Iris dataset, find the mean of the sepal_length and assign it to the `sepal_lengthMean` variable using the dataframe returned from the describe command.   \n",
    "2. Create a new dataframe `iristrain` that includes the first 75 rows of the iris dataframe.\n",
    "3. Create a new dataframe `iristest` that includes the last 75 rows of the iris dataframe.\n",
    "4. Create a new series `sepal_length` from the `sepal_length` column of the iris dataframe. \n",
    "\n"
   ]
  },
  {
   "cell_type": "code",
   "execution_count": 110,
   "metadata": {
    "collapsed": false
   },
   "outputs": [
    {
     "name": "stdout",
     "output_type": "stream",
     "text": [
      "       sepal_length  sepal_width  petal_length  petal_width\n",
      "count   150.000000  150.000000   150.000000  150.000000\n",
      "mean      5.843333    3.054000     3.758667    1.198667\n",
      "std       0.828066    0.433594     1.764420    0.763161\n",
      "min       4.300000    2.000000     1.000000    0.100000\n",
      "25%       5.100000    2.800000     1.600000    0.300000\n",
      "50%       5.800000    3.000000     4.350000    1.300000\n",
      "75%       6.400000    3.300000     5.100000    1.800000\n",
      "max       7.900000    4.400000     6.900000    2.500000\n",
      "Index(['count', 'mean', 'std', 'min', '25%', '50%', '75%', 'max'], dtype='object') Index(['sepal_length', 'sepal_width', 'petal_length', 'petal_width'], dtype='object')\n"
     ]
    },
    {
     "data": {
      "text/html": [
       "<div>\n",
       "<table border=\"1\" class=\"dataframe\">\n",
       "  <thead>\n",
       "    <tr style=\"text-align: right;\">\n",
       "      <th></th>\n",
       "      <th>sepal_length</th>\n",
       "      <th>sepal_width</th>\n",
       "      <th>petal_length</th>\n",
       "      <th>petal_width</th>\n",
       "      <th>species</th>\n",
       "    </tr>\n",
       "  </thead>\n",
       "  <tbody>\n",
       "    <tr>\n",
       "      <th>0</th>\n",
       "      <td>5.1</td>\n",
       "      <td>3.5</td>\n",
       "      <td>1.4</td>\n",
       "      <td>0.2</td>\n",
       "      <td>setosa</td>\n",
       "    </tr>\n",
       "    <tr>\n",
       "      <th>1</th>\n",
       "      <td>4.9</td>\n",
       "      <td>3.0</td>\n",
       "      <td>1.4</td>\n",
       "      <td>0.2</td>\n",
       "      <td>setosa</td>\n",
       "    </tr>\n",
       "    <tr>\n",
       "      <th>2</th>\n",
       "      <td>4.7</td>\n",
       "      <td>3.2</td>\n",
       "      <td>1.3</td>\n",
       "      <td>0.2</td>\n",
       "      <td>setosa</td>\n",
       "    </tr>\n",
       "    <tr>\n",
       "      <th>3</th>\n",
       "      <td>4.6</td>\n",
       "      <td>3.1</td>\n",
       "      <td>1.5</td>\n",
       "      <td>0.2</td>\n",
       "      <td>setosa</td>\n",
       "    </tr>\n",
       "    <tr>\n",
       "      <th>4</th>\n",
       "      <td>5.0</td>\n",
       "      <td>3.6</td>\n",
       "      <td>1.4</td>\n",
       "      <td>0.2</td>\n",
       "      <td>setosa</td>\n",
       "    </tr>\n",
       "  </tbody>\n",
       "</table>\n",
       "</div>"
      ],
      "text/plain": [
       "   sepal_length  sepal_width  petal_length  petal_width species\n",
       "0          5.1         3.5          1.4         0.2  setosa\n",
       "1          4.9         3.0          1.4         0.2  setosa\n",
       "2          4.7         3.2          1.3         0.2  setosa\n",
       "3          4.6         3.1          1.5         0.2  setosa\n",
       "4          5.0         3.6          1.4         0.2  setosa"
      ]
     },
     "execution_count": 110,
     "metadata": {},
     "output_type": "execute_result"
    }
   ],
   "source": [
    "# Pulling from a url.  Notice that this is the raw version of the file.\n",
    "import pandas as pd\n",
    "iris = pd.read_csv(\"https://raw.githubusercontent.com/AnalyticsDojo/materials/master/analyticsdojo/data/Iris.csv\")\n",
    "irisstats=iris.describe()\n",
    "\n",
    "print(irisstats)\n",
    "print(irisstats.index,irisstats.columns)\n",
    "iris.head()"
   ]
  },
  {
   "cell_type": "code",
   "execution_count": 111,
   "metadata": {
    "collapsed": false
   },
   "outputs": [
    {
     "name": "stdout",
     "output_type": "stream",
     "text": [
      "\n",
      "Method 1: 5.84333333333 \n",
      "Method 2: 5.84333333333 \n",
      "Method 3: 5.84333333333 \n",
      "Method 4: 5.84333333333\n"
     ]
    }
   ],
   "source": [
    "#This demonstrates 4 methods, using end of line indicator \\\n",
    "sepal_lengthMean= irisstats.loc['mean','sepal_length']\n",
    "print('\\nMethod 1:', irisstats['sepal_length']['mean'], \\\n",
    "      '\\nMethod 2:', irisstats.sepal_length['mean'], \\\n",
    "      '\\nMethod 3:', irisstats.iloc[1,0], \\\n",
    "      '\\nMethod 4:', irisstats.loc['mean','sepal_length'] )"
   ]
  },
  {
   "cell_type": "code",
   "execution_count": 112,
   "metadata": {
    "collapsed": false
   },
   "outputs": [
    {
     "data": {
      "text/plain": [
       "5.8433333333333337"
      ]
     },
     "execution_count": 112,
     "metadata": {},
     "output_type": "execute_result"
    }
   ],
   "source": [
    "septalLengthMean"
   ]
  },
  {
   "cell_type": "code",
   "execution_count": 113,
   "metadata": {
    "collapsed": false
   },
   "outputs": [
    {
     "name": "stdout",
     "output_type": "stream",
     "text": [
      "       sepal_length  sepal_width  petal_length  petal_width\n",
      "count    75.000000   75.000000    75.000000   75.000000\n",
      "mean      5.341333    3.204000     2.413333    0.610667\n",
      "std       0.638430    0.478861     1.382256    0.542161\n",
      "min       4.300000    2.000000     1.000000    0.100000\n",
      "25%       4.900000    2.950000     1.400000    0.200000\n",
      "50%       5.100000    3.200000     1.600000    0.300000\n",
      "75%       5.700000    3.500000     4.000000    1.250000\n",
      "max       7.000000    4.400000     4.900000    1.800000 \n",
      "        sepal_length  sepal_width  petal_length  petal_width\n",
      "count    75.000000    75.00000    75.000000   75.000000\n",
      "mean      6.345333     2.90400     5.104000    1.786667\n",
      "std       0.679883     0.32192     0.830083    0.421815\n",
      "min       4.900000     2.20000     3.000000    1.000000\n",
      "25%       5.800000     2.70000     4.500000    1.400000\n",
      "50%       6.300000     2.90000     5.100000    1.800000\n",
      "75%       6.700000     3.05000     5.650000    2.100000\n",
      "max       7.900000     3.80000     6.900000    2.500000\n"
     ]
    },
    {
     "data": {
      "text/html": [
       "<div>\n",
       "<table border=\"1\" class=\"dataframe\">\n",
       "  <thead>\n",
       "    <tr style=\"text-align: right;\">\n",
       "      <th></th>\n",
       "      <th>sepal_length</th>\n",
       "      <th>sepal_width</th>\n",
       "      <th>petal_length</th>\n",
       "      <th>petal_width</th>\n",
       "      <th>species</th>\n",
       "    </tr>\n",
       "  </thead>\n",
       "  <tbody>\n",
       "    <tr>\n",
       "      <th>70</th>\n",
       "      <td>5.9</td>\n",
       "      <td>3.2</td>\n",
       "      <td>4.8</td>\n",
       "      <td>1.8</td>\n",
       "      <td>versicolor</td>\n",
       "    </tr>\n",
       "    <tr>\n",
       "      <th>71</th>\n",
       "      <td>6.1</td>\n",
       "      <td>2.8</td>\n",
       "      <td>4.0</td>\n",
       "      <td>1.3</td>\n",
       "      <td>versicolor</td>\n",
       "    </tr>\n",
       "    <tr>\n",
       "      <th>72</th>\n",
       "      <td>6.3</td>\n",
       "      <td>2.5</td>\n",
       "      <td>4.9</td>\n",
       "      <td>1.5</td>\n",
       "      <td>versicolor</td>\n",
       "    </tr>\n",
       "    <tr>\n",
       "      <th>73</th>\n",
       "      <td>6.1</td>\n",
       "      <td>2.8</td>\n",
       "      <td>4.7</td>\n",
       "      <td>1.2</td>\n",
       "      <td>versicolor</td>\n",
       "    </tr>\n",
       "    <tr>\n",
       "      <th>74</th>\n",
       "      <td>6.4</td>\n",
       "      <td>2.9</td>\n",
       "      <td>4.3</td>\n",
       "      <td>1.3</td>\n",
       "      <td>versicolor</td>\n",
       "    </tr>\n",
       "  </tbody>\n",
       "</table>\n",
       "</div>"
      ],
      "text/plain": [
       "    sepal_length  sepal_width  petal_length  petal_width     species\n",
       "70          5.9         3.2          4.8         1.8  versicolor\n",
       "71          6.1         2.8          4.0         1.3  versicolor\n",
       "72          6.3         2.5          4.9         1.5  versicolor\n",
       "73          6.1         2.8          4.7         1.2  versicolor\n",
       "74          6.4         2.9          4.3         1.3  versicolor"
      ]
     },
     "execution_count": 113,
     "metadata": {},
     "output_type": "execute_result"
    }
   ],
   "source": [
    "iristrain=iris.iloc[0:75,:]\n",
    "iristest=iris.iloc[75:150,:]\n",
    "print(iristrain.describe(),'\\n', iristest.describe())\n",
    "iristrain.tail()\n"
   ]
  },
  {
   "cell_type": "code",
   "execution_count": 114,
   "metadata": {
    "collapsed": false
   },
   "outputs": [
    {
     "data": {
      "text/html": [
       "<div>\n",
       "<table border=\"1\" class=\"dataframe\">\n",
       "  <thead>\n",
       "    <tr style=\"text-align: right;\">\n",
       "      <th></th>\n",
       "      <th>sepal_length</th>\n",
       "      <th>sepal_width</th>\n",
       "      <th>petal_length</th>\n",
       "      <th>petal_width</th>\n",
       "      <th>species</th>\n",
       "    </tr>\n",
       "  </thead>\n",
       "  <tbody>\n",
       "    <tr>\n",
       "      <th>75</th>\n",
       "      <td>6.6</td>\n",
       "      <td>3.0</td>\n",
       "      <td>4.4</td>\n",
       "      <td>1.4</td>\n",
       "      <td>versicolor</td>\n",
       "    </tr>\n",
       "    <tr>\n",
       "      <th>76</th>\n",
       "      <td>6.8</td>\n",
       "      <td>2.8</td>\n",
       "      <td>4.8</td>\n",
       "      <td>1.4</td>\n",
       "      <td>versicolor</td>\n",
       "    </tr>\n",
       "    <tr>\n",
       "      <th>77</th>\n",
       "      <td>6.7</td>\n",
       "      <td>3.0</td>\n",
       "      <td>5.0</td>\n",
       "      <td>1.7</td>\n",
       "      <td>versicolor</td>\n",
       "    </tr>\n",
       "    <tr>\n",
       "      <th>78</th>\n",
       "      <td>6.0</td>\n",
       "      <td>2.9</td>\n",
       "      <td>4.5</td>\n",
       "      <td>1.5</td>\n",
       "      <td>versicolor</td>\n",
       "    </tr>\n",
       "    <tr>\n",
       "      <th>79</th>\n",
       "      <td>5.7</td>\n",
       "      <td>2.6</td>\n",
       "      <td>3.5</td>\n",
       "      <td>1.0</td>\n",
       "      <td>versicolor</td>\n",
       "    </tr>\n",
       "  </tbody>\n",
       "</table>\n",
       "</div>"
      ],
      "text/plain": [
       "    sepal_length  sepal_width  petal_length  petal_width     species\n",
       "75          6.6         3.0          4.4         1.4  versicolor\n",
       "76          6.8         2.8          4.8         1.4  versicolor\n",
       "77          6.7         3.0          5.0         1.7  versicolor\n",
       "78          6.0         2.9          4.5         1.5  versicolor\n",
       "79          5.7         2.6          3.5         1.0  versicolor"
      ]
     },
     "execution_count": 114,
     "metadata": {},
     "output_type": "execute_result"
    }
   ],
   "source": [
    "iristest.head()\n",
    "\n"
   ]
  },
  {
   "cell_type": "code",
   "execution_count": 115,
   "metadata": {
    "collapsed": false
   },
   "outputs": [
    {
     "data": {
      "text/plain": [
       "6.0999999999999996"
      ]
     },
     "execution_count": 115,
     "metadata": {},
     "output_type": "execute_result"
    }
   ],
   "source": [
    "sepal_length= iris.sepal_length\n",
    "type(sepal_length)\n",
    "sepal_length[134]"
   ]
  },
  {
   "cell_type": "code",
   "execution_count": 116,
   "metadata": {
    "collapsed": false
   },
   "outputs": [
    {
     "data": {
      "text/plain": [
       "0.67988340282833903"
      ]
     },
     "execution_count": 116,
     "metadata": {},
     "output_type": "execute_result"
    }
   ],
   "source": [
    "iristest.describe().sepal_length['std']"
   ]
  },
  {
   "cell_type": "code",
   "execution_count": 117,
   "metadata": {
    "collapsed": false
   },
   "outputs": [
    {
     "data": {
      "application/javascript": [
       "$(':has(> #dojo-timer-time)').css(\"background-color\",\"yellow\");"
      ],
      "text/plain": [
       "<IPython.core.display.Javascript object>"
      ]
     },
     "metadata": {},
     "output_type": "display_data"
    },
    {
     "name": "stdout",
     "output_type": "stream",
     "text": [
      "......\n",
      "----------------------------------------------------------------------\n",
      "Ran 6 tests in 0.042s\n",
      "\n",
      "OK\n"
     ]
    },
    {
     "data": {
      "application/javascript": [
       "$(':has(> #dojo-timer-time)').css(\"background-color\",\"lightgreen\");"
      ],
      "text/plain": [
       "<IPython.core.display.Javascript object>"
      ]
     },
     "metadata": {},
     "output_type": "display_data"
    },
    {
     "data": {
      "text/plain": [
       "<unittest.runner.TextTestResult run=6 errors=0 failures=0>"
      ]
     },
     "execution_count": 117,
     "metadata": {},
     "output_type": "execute_result"
    }
   ],
   "source": [
    "%%unittest_main\n",
    "class TestPandas(unittest.TestCase):\n",
    "    def test_pandas1(self):\n",
    "        self.assertTrue(sepal_lengthMean == 5.8433333333333337)\n",
    "    def test_pandas2(self):\n",
    "        self.assertTrue(iristrain.describe().sepal_length['count'] == 75.0)\n",
    "    def test_pandas3(self):\n",
    "        self.assertTrue(iristest.describe().sepal_length['count'] == 75.0)\n",
    "    def test_pandas4(self):\n",
    "        self.assertTrue(iristrain.describe().sepal_length['std'] == 0.63842994352770832)\n",
    "    def test_pandas5(self):\n",
    "        self.assertTrue(iristest.describe().sepal_length['std'] == 0.67988340282833903)\n",
    "    def test_pandas6(self):\n",
    "        self.assertTrue(sepal_length[134] == 6.0999999999999996)\n",
    "\n"
   ]
  }
 ],
 "metadata": {
  "celltoolbar": "Slideshow",
  "kernelspec": {
   "display_name": "Python 3",
   "language": "python",
   "name": "python3"
  },
  "language_info": {
   "codemirror_mode": {
    "name": "ipython",
    "version": 3
   },
   "file_extension": ".py",
   "mimetype": "text/x-python",
   "name": "python",
   "nbconvert_exporter": "python",
   "pygments_lexer": "ipython3",
   "version": "3.5.2"
  }
 },
 "nbformat": 4,
 "nbformat_minor": 0
}
